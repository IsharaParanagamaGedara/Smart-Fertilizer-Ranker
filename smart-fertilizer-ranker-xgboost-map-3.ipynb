{
 "cells": [
  {
   "cell_type": "markdown",
   "id": "c7e8f8e0",
   "metadata": {
    "papermill": {
     "duration": 0.00351,
     "end_time": "2025-07-03T05:38:31.468980",
     "exception": false,
     "start_time": "2025-07-03T05:38:31.465470",
     "status": "completed"
    },
    "tags": []
   },
   "source": [
    "<!-- Google Fonts -->\n",
    "<link href=\"https://fonts.googleapis.com/css2?family=Roboto:wght@700&display=swap\" rel=\"stylesheet\">\n",
    "\n",
    "<div style=\"\n",
    "    border-radius: 15px; \n",
    "    border: 2px solid #8B4513; \n",
    "    padding: 20px; \n",
    "    background: linear-gradient(125deg, #d73027 7%, #fdae61 47%, #a6d96a 85%, #1a9850 100%);\n",
    "    text-align: center; \n",
    "    box-shadow: 0px 4px 8px rgba(0, 0, 0, 0.5);\n",
    "\">\n",
    "    <h1 style=\"\n",
    "        color: #fff; \n",
    "        text-shadow: 2px 2px 4px rgba(0, 0, 0, 0.7); \n",
    "        font-weight: bold; \n",
    "        margin-bottom: 10px; \n",
    "        font-size: 36px; \n",
    "        font-family: 'Roboto', sans-serif;\n",
    "        letter-spacing: 1px;\n",
    "    \">\n",
    "        🌾 Smart Fertilizer Ranker | XGBoost + MAP@3 🔢\n",
    "    </h1>\n",
    "</div>"
   ]
  },
  {
   "cell_type": "code",
   "execution_count": 1,
   "id": "70c18d88",
   "metadata": {
    "execution": {
     "iopub.execute_input": "2025-07-03T05:38:31.475907Z",
     "iopub.status.busy": "2025-07-03T05:38:31.475271Z",
     "iopub.status.idle": "2025-07-03T05:38:34.181705Z",
     "shell.execute_reply": "2025-07-03T05:38:34.181119Z"
    },
    "papermill": {
     "duration": 2.711277,
     "end_time": "2025-07-03T05:38:34.183093",
     "exception": false,
     "start_time": "2025-07-03T05:38:31.471816",
     "status": "completed"
    },
    "tags": []
   },
   "outputs": [],
   "source": [
    "import time\n",
    "import numpy as np\n",
    "import pandas as pd\n",
    "from sklearn.model_selection import StratifiedKFold\n",
    "from sklearn.preprocessing import LabelEncoder\n",
    "from xgboost import XGBClassifier\n",
    "import warnings\n",
    "warnings.filterwarnings(\"ignore\")\n",
    "\n",
    "# Start timer\n",
    "start_time = time.time()\n"
   ]
  },
  {
   "cell_type": "code",
   "execution_count": 2,
   "id": "3d1937cf",
   "metadata": {
    "execution": {
     "iopub.execute_input": "2025-07-03T05:38:34.189877Z",
     "iopub.status.busy": "2025-07-03T05:38:34.189541Z",
     "iopub.status.idle": "2025-07-03T05:38:35.611211Z",
     "shell.execute_reply": "2025-07-03T05:38:35.610438Z"
    },
    "papermill": {
     "duration": 1.426246,
     "end_time": "2025-07-03T05:38:35.612445",
     "exception": false,
     "start_time": "2025-07-03T05:38:34.186199",
     "status": "completed"
    },
    "tags": []
   },
   "outputs": [
    {
     "name": "stdout",
     "output_type": "stream",
     "text": [
      "📂 Datasets loaded successfully!\n"
     ]
    }
   ],
   "source": [
    "# Load datasets\n",
    "train_data = pd.read_csv('/kaggle/input/playground-series-s5e6/train.csv')\n",
    "test_data = pd.read_csv('/kaggle/input/playground-series-s5e6/test.csv')\n",
    "sample_data = pd.read_csv('/kaggle/input/playground-series-s5e6/sample_submission.csv')\n",
    "original_data = pd.read_csv('/kaggle/input/fertilizer-prediction/Fertilizer Prediction.csv')\n",
    "\n",
    "print(\"📂 Datasets loaded successfully!\")\n"
   ]
  },
  {
   "cell_type": "code",
   "execution_count": 3,
   "id": "33b5e4cd",
   "metadata": {
    "execution": {
     "iopub.execute_input": "2025-07-03T05:38:35.619493Z",
     "iopub.status.busy": "2025-07-03T05:38:35.619041Z",
     "iopub.status.idle": "2025-07-03T05:38:35.627694Z",
     "shell.execute_reply": "2025-07-03T05:38:35.626950Z"
    },
    "papermill": {
     "duration": 0.013231,
     "end_time": "2025-07-03T05:38:35.628797",
     "exception": false,
     "start_time": "2025-07-03T05:38:35.615566",
     "status": "completed"
    },
    "tags": []
   },
   "outputs": [
    {
     "name": "stdout",
     "output_type": "stream",
     "text": [
      "✅ Fixed column name: 'Temparature' ➝ 'Temperature'\n"
     ]
    }
   ],
   "source": [
    "# Fix column name typo\n",
    "for df in [train_data, test_data, original_data]:\n",
    "    df.rename(columns={'Temparature': 'Temperature'}, inplace=True)\n",
    "print(\"✅ Fixed column name: 'Temparature' ➝ 'Temperature'\")\n"
   ]
  },
  {
   "cell_type": "code",
   "execution_count": 4,
   "id": "f68bc17f",
   "metadata": {
    "execution": {
     "iopub.execute_input": "2025-07-03T05:38:35.635194Z",
     "iopub.status.busy": "2025-07-03T05:38:35.634790Z",
     "iopub.status.idle": "2025-07-03T05:38:35.657341Z",
     "shell.execute_reply": "2025-07-03T05:38:35.656745Z"
    },
    "papermill": {
     "duration": 0.026889,
     "end_time": "2025-07-03T05:38:35.658502",
     "exception": false,
     "start_time": "2025-07-03T05:38:35.631613",
     "status": "completed"
    },
    "tags": []
   },
   "outputs": [
    {
     "name": "stdout",
     "output_type": "stream",
     "text": [
      "🧪 Original dataset replicated to match training size (shape: (700000, 9))\n"
     ]
    }
   ],
   "source": [
    "# Augment original dataset\n",
    "original_data = pd.concat([original_data]*7, ignore_index=True)\n",
    "print(f\"🧪 Original dataset replicated to match training size (shape: {original_data.shape})\")\n"
   ]
  },
  {
   "cell_type": "code",
   "execution_count": 5,
   "id": "2247d02e",
   "metadata": {
    "execution": {
     "iopub.execute_input": "2025-07-03T05:38:35.665978Z",
     "iopub.status.busy": "2025-07-03T05:38:35.665200Z",
     "iopub.status.idle": "2025-07-03T05:38:38.352778Z",
     "shell.execute_reply": "2025-07-03T05:38:38.351806Z"
    },
    "papermill": {
     "duration": 2.69265,
     "end_time": "2025-07-03T05:38:38.354176",
     "exception": false,
     "start_time": "2025-07-03T05:38:35.661526",
     "status": "completed"
    },
    "tags": []
   },
   "outputs": [
    {
     "name": "stdout",
     "output_type": "stream",
     "text": [
      "📊 Feature engineering complete.\n"
     ]
    }
   ],
   "source": [
    "# Feature engineering: bin numerical features\n",
    "def feature_eng(df):\n",
    "    for col in df.select_dtypes(include=['int64', 'float64']).columns:\n",
    "        if col != 'id':\n",
    "            df[f'{col}_Binned'] = df[col].astype(str).astype('category')\n",
    "    return df\n",
    "\n",
    "train_data = feature_eng(train_data)\n",
    "test_data = feature_eng(test_data)\n",
    "original_data = feature_eng(original_data)\n",
    "print(\"📊 Feature engineering complete.\")\n"
   ]
  },
  {
   "cell_type": "code",
   "execution_count": 6,
   "id": "bbfee5fe",
   "metadata": {
    "execution": {
     "iopub.execute_input": "2025-07-03T05:38:38.361601Z",
     "iopub.status.busy": "2025-07-03T05:38:38.361168Z",
     "iopub.status.idle": "2025-07-03T05:38:40.276002Z",
     "shell.execute_reply": "2025-07-03T05:38:40.275425Z"
    },
    "papermill": {
     "duration": 1.919808,
     "end_time": "2025-07-03T05:38:40.277358",
     "exception": false,
     "start_time": "2025-07-03T05:38:38.357550",
     "status": "completed"
    },
    "tags": []
   },
   "outputs": [],
   "source": [
    "# Encode categorical variables\n",
    "cat_cols = [col for col in train_data.select_dtypes(include=['object', 'category']) if col != 'Fertilizer Name']\n",
    "le_dict = {}\n",
    "\n",
    "for col in cat_cols:\n",
    "    le = LabelEncoder()\n",
    "    train_data[col] = le.fit_transform(train_data[col])\n",
    "    test_data[col] = le.transform(test_data[col])\n",
    "    original_data[col] = le.fit_transform(original_data[col])\n",
    "    le_dict[col] = le\n",
    "    "
   ]
  },
  {
   "cell_type": "code",
   "execution_count": 7,
   "id": "59695073",
   "metadata": {
    "execution": {
     "iopub.execute_input": "2025-07-03T05:38:40.284336Z",
     "iopub.status.busy": "2025-07-03T05:38:40.284112Z",
     "iopub.status.idle": "2025-07-03T05:38:40.501679Z",
     "shell.execute_reply": "2025-07-03T05:38:40.501118Z"
    },
    "papermill": {
     "duration": 0.222356,
     "end_time": "2025-07-03T05:38:40.502980",
     "exception": false,
     "start_time": "2025-07-03T05:38:40.280624",
     "status": "completed"
    },
    "tags": []
   },
   "outputs": [],
   "source": [
    "# Encode target variable\n",
    "target_le = LabelEncoder()\n",
    "train_data[\"Fertilizer Name\"] = target_le.fit_transform(train_data[\"Fertilizer Name\"])\n",
    "original_data[\"Fertilizer Name\"] = target_le.fit_transform(original_data[\"Fertilizer Name\"])\n"
   ]
  },
  {
   "cell_type": "code",
   "execution_count": 8,
   "id": "b035ef24",
   "metadata": {
    "execution": {
     "iopub.execute_input": "2025-07-03T05:38:40.510020Z",
     "iopub.status.busy": "2025-07-03T05:38:40.509530Z",
     "iopub.status.idle": "2025-07-03T05:38:40.621534Z",
     "shell.execute_reply": "2025-07-03T05:38:40.620988Z"
    },
    "papermill": {
     "duration": 0.116799,
     "end_time": "2025-07-03T05:38:40.622985",
     "exception": false,
     "start_time": "2025-07-03T05:38:40.506186",
     "status": "completed"
    },
    "tags": []
   },
   "outputs": [],
   "source": [
    "# Cast to category type\n",
    "for col in cat_cols:\n",
    "    train_data[col] = train_data[col].astype(\"category\")\n",
    "    test_data[col] = test_data[col].astype(\"category\")\n",
    "    original_data[col] = original_data[col].astype(\"category\")\n",
    "    "
   ]
  },
  {
   "cell_type": "code",
   "execution_count": 9,
   "id": "e121a29c",
   "metadata": {
    "execution": {
     "iopub.execute_input": "2025-07-03T05:38:40.630036Z",
     "iopub.status.busy": "2025-07-03T05:38:40.629467Z",
     "iopub.status.idle": "2025-07-03T05:38:40.654119Z",
     "shell.execute_reply": "2025-07-03T05:38:40.653629Z"
    },
    "papermill": {
     "duration": 0.029159,
     "end_time": "2025-07-03T05:38:40.655217",
     "exception": false,
     "start_time": "2025-07-03T05:38:40.626058",
     "status": "completed"
    },
    "tags": []
   },
   "outputs": [],
   "source": [
    "# Split data\n",
    "X = train_data.drop(columns=[\"id\", \"Fertilizer Name\"])\n",
    "y = train_data[\"Fertilizer Name\"]\n",
    "X_test = test_data.drop(columns=[\"id\"])\n",
    "X_original = original_data.drop(columns=[\"Fertilizer Name\"])\n",
    "y_original = original_data[\"Fertilizer Name\"]\n"
   ]
  },
  {
   "cell_type": "code",
   "execution_count": 10,
   "id": "c3f03191",
   "metadata": {
    "execution": {
     "iopub.execute_input": "2025-07-03T05:38:40.661803Z",
     "iopub.status.busy": "2025-07-03T05:38:40.661611Z",
     "iopub.status.idle": "2025-07-03T05:38:40.669824Z",
     "shell.execute_reply": "2025-07-03T05:38:40.669326Z"
    },
    "papermill": {
     "duration": 0.012553,
     "end_time": "2025-07-03T05:38:40.670763",
     "exception": false,
     "start_time": "2025-07-03T05:38:40.658210",
     "status": "completed"
    },
    "tags": []
   },
   "outputs": [],
   "source": [
    "# XGBoost hyperparameters\n",
    "params = {\n",
    "    'objective': 'multi:softprob',\n",
    "    'num_class': y.nunique(),\n",
    "    'max_depth': 7,\n",
    "    'learning_rate': 0.03,\n",
    "    'subsample': 0.8,\n",
    "    'colsample_bytree': 0.3,\n",
    "    'tree_method': 'gpu_hist',\n",
    "    'random_state': 42,\n",
    "    'eval_metric': 'mlogloss',\n",
    "    'enable_categorical': True,\n",
    "    'n_estimators': 10000,\n",
    "    'early_stopping_rounds': 50\n",
    "}\n"
   ]
  },
  {
   "cell_type": "code",
   "execution_count": 11,
   "id": "94206ff2",
   "metadata": {
    "execution": {
     "iopub.execute_input": "2025-07-03T05:38:40.676918Z",
     "iopub.status.busy": "2025-07-03T05:38:40.676741Z",
     "iopub.status.idle": "2025-07-03T05:38:40.681105Z",
     "shell.execute_reply": "2025-07-03T05:38:40.680571Z"
    },
    "papermill": {
     "duration": 0.008503,
     "end_time": "2025-07-03T05:38:40.682034",
     "exception": false,
     "start_time": "2025-07-03T05:38:40.673531",
     "status": "completed"
    },
    "tags": []
   },
   "outputs": [],
   "source": [
    "# MAP@3 evaluation metric\n",
    "def mapk(actual, predicted, k=3):\n",
    "    def apk(a, p, k):\n",
    "        p = p[:k]\n",
    "        score, hits = 0.0, 0\n",
    "        seen = set()\n",
    "        for i, pred in enumerate(p):\n",
    "            if pred in a and pred not in seen:\n",
    "                hits += 1\n",
    "                score += hits / (i + 1.0)\n",
    "                seen.add(pred)\n",
    "        return score / min(len(a), k)\n",
    "    return np.mean([apk(a, p, k) for a, p in zip(actual, predicted)])\n",
    "    "
   ]
  },
  {
   "cell_type": "code",
   "execution_count": 12,
   "id": "3600c55a",
   "metadata": {
    "execution": {
     "iopub.execute_input": "2025-07-03T05:38:40.688427Z",
     "iopub.status.busy": "2025-07-03T05:38:40.688078Z",
     "iopub.status.idle": "2025-07-03T06:27:02.079910Z",
     "shell.execute_reply": "2025-07-03T06:27:02.079157Z"
    },
    "papermill": {
     "duration": 2901.39655,
     "end_time": "2025-07-03T06:27:02.081403",
     "exception": false,
     "start_time": "2025-07-03T05:38:40.684853",
     "status": "completed"
    },
    "tags": []
   },
   "outputs": [
    {
     "name": "stdout",
     "output_type": "stream",
     "text": [
      "🚀 Starting 10-Fold Stratified Cross-Validation...\n",
      "\n",
      "🔄 Fold 1/10 in progress...\n",
      "[0]\tvalidation_0-mlogloss:1.94567\n",
      "[100]\tvalidation_0-mlogloss:1.92928\n",
      "[200]\tvalidation_0-mlogloss:1.92051\n",
      "[300]\tvalidation_0-mlogloss:1.91425\n",
      "[400]\tvalidation_0-mlogloss:1.90936\n",
      "[500]\tvalidation_0-mlogloss:1.90529\n",
      "[600]\tvalidation_0-mlogloss:1.90145\n",
      "[700]\tvalidation_0-mlogloss:1.89825\n",
      "[800]\tvalidation_0-mlogloss:1.89543\n",
      "[900]\tvalidation_0-mlogloss:1.89311\n",
      "[1000]\tvalidation_0-mlogloss:1.89107\n",
      "[1100]\tvalidation_0-mlogloss:1.88929\n",
      "[1200]\tvalidation_0-mlogloss:1.88773\n",
      "[1300]\tvalidation_0-mlogloss:1.88637\n",
      "[1400]\tvalidation_0-mlogloss:1.88528\n",
      "[1500]\tvalidation_0-mlogloss:1.88435\n",
      "[1600]\tvalidation_0-mlogloss:1.88354\n",
      "[1700]\tvalidation_0-mlogloss:1.88284\n",
      "[1800]\tvalidation_0-mlogloss:1.88229\n",
      "[1900]\tvalidation_0-mlogloss:1.88190\n",
      "[2000]\tvalidation_0-mlogloss:1.88158\n",
      "[2100]\tvalidation_0-mlogloss:1.88140\n",
      "[2200]\tvalidation_0-mlogloss:1.88142\n",
      "[2225]\tvalidation_0-mlogloss:1.88140\n",
      "✅ Fold 1 complete — MAP@3: 0.37565\n",
      "\n",
      "🔄 Fold 2/10 in progress...\n",
      "[0]\tvalidation_0-mlogloss:1.94566\n",
      "[100]\tvalidation_0-mlogloss:1.92922\n",
      "[200]\tvalidation_0-mlogloss:1.92048\n",
      "[300]\tvalidation_0-mlogloss:1.91407\n",
      "[400]\tvalidation_0-mlogloss:1.90900\n",
      "[500]\tvalidation_0-mlogloss:1.90472\n",
      "[600]\tvalidation_0-mlogloss:1.90088\n",
      "[700]\tvalidation_0-mlogloss:1.89744\n",
      "[800]\tvalidation_0-mlogloss:1.89466\n",
      "[900]\tvalidation_0-mlogloss:1.89224\n",
      "[1000]\tvalidation_0-mlogloss:1.89004\n",
      "[1100]\tvalidation_0-mlogloss:1.88812\n",
      "[1200]\tvalidation_0-mlogloss:1.88651\n",
      "[1300]\tvalidation_0-mlogloss:1.88491\n",
      "[1400]\tvalidation_0-mlogloss:1.88366\n",
      "[1500]\tvalidation_0-mlogloss:1.88269\n",
      "[1600]\tvalidation_0-mlogloss:1.88188\n",
      "[1700]\tvalidation_0-mlogloss:1.88125\n",
      "[1800]\tvalidation_0-mlogloss:1.88064\n",
      "[1900]\tvalidation_0-mlogloss:1.88015\n",
      "[2000]\tvalidation_0-mlogloss:1.87957\n",
      "[2100]\tvalidation_0-mlogloss:1.87934\n",
      "[2200]\tvalidation_0-mlogloss:1.87911\n",
      "[2300]\tvalidation_0-mlogloss:1.87903\n",
      "[2304]\tvalidation_0-mlogloss:1.87904\n",
      "✅ Fold 2 complete — MAP@3: 0.37771\n",
      "\n",
      "🔄 Fold 3/10 in progress...\n",
      "[0]\tvalidation_0-mlogloss:1.94566\n",
      "[100]\tvalidation_0-mlogloss:1.92912\n",
      "[200]\tvalidation_0-mlogloss:1.92034\n",
      "[300]\tvalidation_0-mlogloss:1.91388\n",
      "[400]\tvalidation_0-mlogloss:1.90894\n",
      "[500]\tvalidation_0-mlogloss:1.90458\n",
      "[600]\tvalidation_0-mlogloss:1.90084\n",
      "[700]\tvalidation_0-mlogloss:1.89750\n",
      "[800]\tvalidation_0-mlogloss:1.89456\n",
      "[900]\tvalidation_0-mlogloss:1.89195\n",
      "[1000]\tvalidation_0-mlogloss:1.88989\n",
      "[1100]\tvalidation_0-mlogloss:1.88795\n",
      "[1200]\tvalidation_0-mlogloss:1.88626\n",
      "[1300]\tvalidation_0-mlogloss:1.88484\n",
      "[1400]\tvalidation_0-mlogloss:1.88359\n",
      "[1500]\tvalidation_0-mlogloss:1.88251\n",
      "[1600]\tvalidation_0-mlogloss:1.88171\n",
      "[1700]\tvalidation_0-mlogloss:1.88100\n",
      "[1800]\tvalidation_0-mlogloss:1.88038\n",
      "[1900]\tvalidation_0-mlogloss:1.87990\n",
      "[2000]\tvalidation_0-mlogloss:1.87958\n",
      "[2100]\tvalidation_0-mlogloss:1.87931\n",
      "[2200]\tvalidation_0-mlogloss:1.87916\n",
      "[2300]\tvalidation_0-mlogloss:1.87909\n",
      "[2321]\tvalidation_0-mlogloss:1.87909\n",
      "✅ Fold 3 complete — MAP@3: 0.37752\n",
      "\n",
      "🔄 Fold 4/10 in progress...\n",
      "[0]\tvalidation_0-mlogloss:1.94567\n",
      "[100]\tvalidation_0-mlogloss:1.92948\n",
      "[200]\tvalidation_0-mlogloss:1.92073\n",
      "[300]\tvalidation_0-mlogloss:1.91446\n",
      "[400]\tvalidation_0-mlogloss:1.90947\n",
      "[500]\tvalidation_0-mlogloss:1.90527\n",
      "[600]\tvalidation_0-mlogloss:1.90137\n",
      "[700]\tvalidation_0-mlogloss:1.89796\n",
      "[800]\tvalidation_0-mlogloss:1.89512\n",
      "[900]\tvalidation_0-mlogloss:1.89261\n",
      "[1000]\tvalidation_0-mlogloss:1.89048\n",
      "[1100]\tvalidation_0-mlogloss:1.88851\n",
      "[1200]\tvalidation_0-mlogloss:1.88680\n",
      "[1300]\tvalidation_0-mlogloss:1.88528\n",
      "[1400]\tvalidation_0-mlogloss:1.88399\n",
      "[1500]\tvalidation_0-mlogloss:1.88294\n",
      "[1600]\tvalidation_0-mlogloss:1.88202\n",
      "[1700]\tvalidation_0-mlogloss:1.88121\n",
      "[1800]\tvalidation_0-mlogloss:1.88077\n",
      "[1900]\tvalidation_0-mlogloss:1.88023\n",
      "[2000]\tvalidation_0-mlogloss:1.87987\n",
      "[2100]\tvalidation_0-mlogloss:1.87962\n",
      "[2200]\tvalidation_0-mlogloss:1.87941\n",
      "[2300]\tvalidation_0-mlogloss:1.87937\n",
      "[2366]\tvalidation_0-mlogloss:1.87942\n",
      "✅ Fold 4 complete — MAP@3: 0.37698\n",
      "\n",
      "🔄 Fold 5/10 in progress...\n",
      "[0]\tvalidation_0-mlogloss:1.94566\n",
      "[100]\tvalidation_0-mlogloss:1.92900\n",
      "[200]\tvalidation_0-mlogloss:1.92019\n",
      "[300]\tvalidation_0-mlogloss:1.91375\n",
      "[400]\tvalidation_0-mlogloss:1.90876\n",
      "[500]\tvalidation_0-mlogloss:1.90441\n",
      "[600]\tvalidation_0-mlogloss:1.90053\n",
      "[700]\tvalidation_0-mlogloss:1.89709\n",
      "[800]\tvalidation_0-mlogloss:1.89421\n",
      "[900]\tvalidation_0-mlogloss:1.89173\n",
      "[1000]\tvalidation_0-mlogloss:1.88957\n",
      "[1100]\tvalidation_0-mlogloss:1.88764\n",
      "[1200]\tvalidation_0-mlogloss:1.88602\n",
      "[1300]\tvalidation_0-mlogloss:1.88460\n",
      "[1400]\tvalidation_0-mlogloss:1.88332\n",
      "[1500]\tvalidation_0-mlogloss:1.88223\n",
      "[1600]\tvalidation_0-mlogloss:1.88139\n",
      "[1700]\tvalidation_0-mlogloss:1.88070\n",
      "[1800]\tvalidation_0-mlogloss:1.88018\n",
      "[1900]\tvalidation_0-mlogloss:1.87974\n",
      "[2000]\tvalidation_0-mlogloss:1.87934\n",
      "[2100]\tvalidation_0-mlogloss:1.87907\n",
      "[2200]\tvalidation_0-mlogloss:1.87896\n",
      "[2300]\tvalidation_0-mlogloss:1.87882\n",
      "[2398]\tvalidation_0-mlogloss:1.87880\n",
      "✅ Fold 5 complete — MAP@3: 0.37792\n",
      "\n",
      "🔄 Fold 6/10 in progress...\n",
      "[0]\tvalidation_0-mlogloss:1.94565\n",
      "[100]\tvalidation_0-mlogloss:1.92899\n",
      "[200]\tvalidation_0-mlogloss:1.92023\n",
      "[300]\tvalidation_0-mlogloss:1.91370\n",
      "[400]\tvalidation_0-mlogloss:1.90871\n",
      "[500]\tvalidation_0-mlogloss:1.90434\n",
      "[600]\tvalidation_0-mlogloss:1.90042\n",
      "[700]\tvalidation_0-mlogloss:1.89706\n",
      "[800]\tvalidation_0-mlogloss:1.89407\n",
      "[900]\tvalidation_0-mlogloss:1.89163\n",
      "[1000]\tvalidation_0-mlogloss:1.88934\n",
      "[1100]\tvalidation_0-mlogloss:1.88741\n",
      "[1200]\tvalidation_0-mlogloss:1.88579\n",
      "[1300]\tvalidation_0-mlogloss:1.88432\n",
      "[1400]\tvalidation_0-mlogloss:1.88307\n",
      "[1500]\tvalidation_0-mlogloss:1.88203\n",
      "[1600]\tvalidation_0-mlogloss:1.88113\n",
      "[1700]\tvalidation_0-mlogloss:1.88037\n",
      "[1800]\tvalidation_0-mlogloss:1.87969\n",
      "[1900]\tvalidation_0-mlogloss:1.87929\n",
      "[2000]\tvalidation_0-mlogloss:1.87892\n",
      "[2100]\tvalidation_0-mlogloss:1.87863\n",
      "[2200]\tvalidation_0-mlogloss:1.87847\n",
      "[2300]\tvalidation_0-mlogloss:1.87834\n",
      "[2361]\tvalidation_0-mlogloss:1.87837\n",
      "✅ Fold 6 complete — MAP@3: 0.37852\n",
      "\n",
      "🔄 Fold 7/10 in progress...\n",
      "[0]\tvalidation_0-mlogloss:1.94567\n",
      "[100]\tvalidation_0-mlogloss:1.92928\n",
      "[200]\tvalidation_0-mlogloss:1.92060\n",
      "[300]\tvalidation_0-mlogloss:1.91433\n",
      "[400]\tvalidation_0-mlogloss:1.90936\n",
      "[500]\tvalidation_0-mlogloss:1.90524\n",
      "[600]\tvalidation_0-mlogloss:1.90147\n",
      "[700]\tvalidation_0-mlogloss:1.89822\n",
      "[800]\tvalidation_0-mlogloss:1.89537\n",
      "[900]\tvalidation_0-mlogloss:1.89298\n",
      "[1000]\tvalidation_0-mlogloss:1.89082\n",
      "[1100]\tvalidation_0-mlogloss:1.88888\n",
      "[1200]\tvalidation_0-mlogloss:1.88724\n",
      "[1300]\tvalidation_0-mlogloss:1.88581\n",
      "[1400]\tvalidation_0-mlogloss:1.88474\n",
      "[1500]\tvalidation_0-mlogloss:1.88367\n",
      "[1600]\tvalidation_0-mlogloss:1.88281\n",
      "[1700]\tvalidation_0-mlogloss:1.88209\n",
      "[1800]\tvalidation_0-mlogloss:1.88159\n",
      "[1900]\tvalidation_0-mlogloss:1.88120\n",
      "[2000]\tvalidation_0-mlogloss:1.88087\n",
      "[2100]\tvalidation_0-mlogloss:1.88066\n",
      "[2200]\tvalidation_0-mlogloss:1.88055\n",
      "[2274]\tvalidation_0-mlogloss:1.88055\n",
      "✅ Fold 7 complete — MAP@3: 0.37688\n",
      "\n",
      "🔄 Fold 8/10 in progress...\n",
      "[0]\tvalidation_0-mlogloss:1.94566\n",
      "[100]\tvalidation_0-mlogloss:1.92942\n",
      "[200]\tvalidation_0-mlogloss:1.92087\n",
      "[300]\tvalidation_0-mlogloss:1.91474\n",
      "[400]\tvalidation_0-mlogloss:1.90979\n",
      "[500]\tvalidation_0-mlogloss:1.90562\n",
      "[600]\tvalidation_0-mlogloss:1.90180\n",
      "[700]\tvalidation_0-mlogloss:1.89865\n",
      "[800]\tvalidation_0-mlogloss:1.89584\n",
      "[900]\tvalidation_0-mlogloss:1.89351\n",
      "[1000]\tvalidation_0-mlogloss:1.89140\n",
      "[1100]\tvalidation_0-mlogloss:1.88958\n",
      "[1200]\tvalidation_0-mlogloss:1.88794\n",
      "[1300]\tvalidation_0-mlogloss:1.88661\n",
      "[1400]\tvalidation_0-mlogloss:1.88553\n",
      "[1500]\tvalidation_0-mlogloss:1.88454\n",
      "[1600]\tvalidation_0-mlogloss:1.88379\n",
      "[1700]\tvalidation_0-mlogloss:1.88319\n",
      "[1800]\tvalidation_0-mlogloss:1.88267\n",
      "[1900]\tvalidation_0-mlogloss:1.88233\n",
      "[2000]\tvalidation_0-mlogloss:1.88201\n",
      "[2100]\tvalidation_0-mlogloss:1.88172\n",
      "[2200]\tvalidation_0-mlogloss:1.88164\n",
      "[2267]\tvalidation_0-mlogloss:1.88164\n",
      "✅ Fold 8 complete — MAP@3: 0.37593\n",
      "\n",
      "🔄 Fold 9/10 in progress...\n",
      "[0]\tvalidation_0-mlogloss:1.94566\n",
      "[100]\tvalidation_0-mlogloss:1.92878\n",
      "[200]\tvalidation_0-mlogloss:1.91981\n",
      "[300]\tvalidation_0-mlogloss:1.91328\n",
      "[400]\tvalidation_0-mlogloss:1.90819\n",
      "[500]\tvalidation_0-mlogloss:1.90401\n",
      "[600]\tvalidation_0-mlogloss:1.90011\n",
      "[700]\tvalidation_0-mlogloss:1.89688\n",
      "[800]\tvalidation_0-mlogloss:1.89408\n",
      "[900]\tvalidation_0-mlogloss:1.89165\n",
      "[1000]\tvalidation_0-mlogloss:1.88955\n",
      "[1100]\tvalidation_0-mlogloss:1.88753\n",
      "[1200]\tvalidation_0-mlogloss:1.88592\n",
      "[1300]\tvalidation_0-mlogloss:1.88442\n",
      "[1400]\tvalidation_0-mlogloss:1.88314\n",
      "[1500]\tvalidation_0-mlogloss:1.88208\n",
      "[1600]\tvalidation_0-mlogloss:1.88120\n",
      "[1700]\tvalidation_0-mlogloss:1.88041\n",
      "[1800]\tvalidation_0-mlogloss:1.87989\n",
      "[1900]\tvalidation_0-mlogloss:1.87944\n",
      "[2000]\tvalidation_0-mlogloss:1.87903\n",
      "[2100]\tvalidation_0-mlogloss:1.87878\n",
      "[2200]\tvalidation_0-mlogloss:1.87865\n",
      "[2300]\tvalidation_0-mlogloss:1.87858\n",
      "[2317]\tvalidation_0-mlogloss:1.87857\n",
      "✅ Fold 9 complete — MAP@3: 0.37815\n",
      "\n",
      "🔄 Fold 10/10 in progress...\n",
      "[0]\tvalidation_0-mlogloss:1.94566\n",
      "[100]\tvalidation_0-mlogloss:1.92921\n",
      "[200]\tvalidation_0-mlogloss:1.92042\n",
      "[300]\tvalidation_0-mlogloss:1.91402\n",
      "[400]\tvalidation_0-mlogloss:1.90912\n",
      "[500]\tvalidation_0-mlogloss:1.90485\n",
      "[600]\tvalidation_0-mlogloss:1.90101\n",
      "[700]\tvalidation_0-mlogloss:1.89786\n",
      "[800]\tvalidation_0-mlogloss:1.89515\n",
      "[900]\tvalidation_0-mlogloss:1.89284\n",
      "[1000]\tvalidation_0-mlogloss:1.89070\n",
      "[1100]\tvalidation_0-mlogloss:1.88886\n",
      "[1200]\tvalidation_0-mlogloss:1.88734\n",
      "[1300]\tvalidation_0-mlogloss:1.88591\n",
      "[1400]\tvalidation_0-mlogloss:1.88476\n",
      "[1500]\tvalidation_0-mlogloss:1.88379\n",
      "[1600]\tvalidation_0-mlogloss:1.88290\n",
      "[1700]\tvalidation_0-mlogloss:1.88211\n",
      "[1800]\tvalidation_0-mlogloss:1.88162\n",
      "[1900]\tvalidation_0-mlogloss:1.88123\n",
      "[2000]\tvalidation_0-mlogloss:1.88088\n",
      "[2100]\tvalidation_0-mlogloss:1.88060\n",
      "[2200]\tvalidation_0-mlogloss:1.88049\n",
      "[2300]\tvalidation_0-mlogloss:1.88043\n",
      "[2366]\tvalidation_0-mlogloss:1.88047\n",
      "✅ Fold 10 complete — MAP@3: 0.37711\n",
      "\n",
      "🎯 Average MAP@3 across 10 folds: 0.37724\n"
     ]
    }
   ],
   "source": [
    "# 10-Fold Stratified CV\n",
    "FOLDS = 10\n",
    "skf = StratifiedKFold(n_splits=FOLDS, shuffle=True, random_state=42)\n",
    "oof = np.zeros((len(train_data), y.nunique()))\n",
    "pred_prob = np.zeros((len(test_data), y.nunique()))\n",
    "map3_scores = []\n",
    "\n",
    "print(f\"🚀 Starting {FOLDS}-Fold Stratified Cross-Validation...\")\n",
    "\n",
    "for fold, (train_idx, val_idx) in enumerate(skf.split(X, y), 1):\n",
    "    print(f\"\\n🔄 Fold {fold}/{FOLDS} in progress...\")\n",
    "\n",
    "    x_train, x_val = X.iloc[train_idx], X.iloc[val_idx]\n",
    "    y_train, y_val = y.iloc[train_idx], y.iloc[val_idx]\n",
    "\n",
    "    # Combine with original data\n",
    "    x_train = pd.concat([x_train, X_original], ignore_index=True)\n",
    "    y_train = pd.concat([y_train, y_original], ignore_index=True)\n",
    "\n",
    "    model = XGBClassifier(**params)\n",
    "    model.fit(x_train, y_train, eval_set=[(x_val, y_val)], verbose=100)\n",
    "\n",
    "    oof[val_idx] = model.predict_proba(x_val)\n",
    "    pred_prob += model.predict_proba(X_test)\n",
    "\n",
    "    top3 = np.argsort(oof[val_idx], axis=1)[:, -3:][:, ::-1]\n",
    "    actual = [[label] for label in y_val]\n",
    "    score = mapk(actual, top3)\n",
    "    map3_scores.append(score)\n",
    "\n",
    "    print(f\"✅ Fold {fold} complete — MAP@3: {score:.5f}\")\n",
    "\n",
    "# Final evaluation\n",
    "avg_map3 = np.mean(map3_scores)\n",
    "print(f\"\\n🎯 Average MAP@3 across {FOLDS} folds: {avg_map3:.5f}\")\n"
   ]
  },
  {
   "cell_type": "code",
   "execution_count": 13,
   "id": "8f95c107",
   "metadata": {
    "execution": {
     "iopub.execute_input": "2025-07-03T06:27:02.108621Z",
     "iopub.status.busy": "2025-07-03T06:27:02.108394Z",
     "iopub.status.idle": "2025-07-03T06:27:02.706097Z",
     "shell.execute_reply": "2025-07-03T06:27:02.705331Z"
    },
    "papermill": {
     "duration": 0.612263,
     "end_time": "2025-07-03T06:27:02.707332",
     "exception": false,
     "start_time": "2025-07-03T06:27:02.095069",
     "status": "completed"
    },
    "tags": []
   },
   "outputs": [
    {
     "name": "stdout",
     "output_type": "stream",
     "text": [
      "📁 Submission file saved!\n"
     ]
    }
   ],
   "source": [
    "# Generate submission file\n",
    "top_3_preds = np.argsort(pred_prob, axis=1)[:, -3:][:, ::-1]\n",
    "top_3_labels = target_le.inverse_transform(top_3_preds.ravel()).reshape(top_3_preds.shape)\n",
    "submission = pd.DataFrame({\n",
    "    'id': test_data['id'],\n",
    "    'Fertilizer Name': [' '.join(row) for row in top_3_labels]\n",
    "})\n",
    "submission.to_csv(\"submission.csv\", index=False)\n",
    "print(\"📁 Submission file saved!\")\n"
   ]
  },
  {
   "cell_type": "code",
   "execution_count": 14,
   "id": "acc87a0c",
   "metadata": {
    "execution": {
     "iopub.execute_input": "2025-07-03T06:27:02.733516Z",
     "iopub.status.busy": "2025-07-03T06:27:02.733055Z",
     "iopub.status.idle": "2025-07-03T06:27:02.736827Z",
     "shell.execute_reply": "2025-07-03T06:27:02.736218Z"
    },
    "papermill": {
     "duration": 0.017508,
     "end_time": "2025-07-03T06:27:02.737818",
     "exception": false,
     "start_time": "2025-07-03T06:27:02.720310",
     "status": "completed"
    },
    "tags": []
   },
   "outputs": [
    {
     "name": "stdout",
     "output_type": "stream",
     "text": [
      "\n",
      "⏱️ Total Training Time: 48.48 minutes\n"
     ]
    }
   ],
   "source": [
    "# End timing\n",
    "elapsed_time = time.time() - start_time\n",
    "print(f\"\\n⏱️ Total Training Time: {elapsed_time / 60:.2f} minutes\")\n"
   ]
  },
  {
   "cell_type": "code",
   "execution_count": 15,
   "id": "d955c462",
   "metadata": {
    "execution": {
     "iopub.execute_input": "2025-07-03T06:27:02.763031Z",
     "iopub.status.busy": "2025-07-03T06:27:02.762819Z",
     "iopub.status.idle": "2025-07-03T06:27:02.770618Z",
     "shell.execute_reply": "2025-07-03T06:27:02.769963Z"
    },
    "papermill": {
     "duration": 0.021702,
     "end_time": "2025-07-03T06:27:02.771695",
     "exception": false,
     "start_time": "2025-07-03T06:27:02.749993",
     "status": "completed"
    },
    "tags": []
   },
   "outputs": [
    {
     "name": "stdout",
     "output_type": "stream",
     "text": [
      "       id             Fertilizer Name\n",
      "0  750000          10-26-26 20-20 DAP\n",
      "1  750001      17-17-17 10-26-26 Urea\n",
      "2  750002              Urea 20-20 DAP\n",
      "3  750003      14-35-14 Urea 17-17-17\n",
      "4  750004         Urea 20-20 10-26-26\n",
      "5  750005        28-28 20-20 14-35-14\n",
      "6  750006     28-28 10-26-26 14-35-14\n",
      "7  750007          28-28 DAP 10-26-26\n",
      "8  750008  10-26-26 17-17-17 14-35-14\n",
      "9  750009     28-28 14-35-14 10-26-26\n"
     ]
    }
   ],
   "source": [
    "# Print Submission preview\n",
    "print(submission.head(10))\n"
   ]
  },
  {
   "cell_type": "markdown",
   "id": "9bf2a2de",
   "metadata": {
    "papermill": {
     "duration": 0.011989,
     "end_time": "2025-07-03T06:27:02.796254",
     "exception": false,
     "start_time": "2025-07-03T06:27:02.784265",
     "status": "completed"
    },
    "tags": []
   },
   "source": [
    "<!-- Include Google Fonts for a modern font -->\n",
    "<link href=\"https://fonts.googleapis.com/css2?family=Roboto:wght@700&display=swap\" rel=\"stylesheet\">\n",
    "\n",
    "<div style=\"\n",
    "    border-radius: 15px; \n",
    "    border: 2px solid #a63603; /* Darker warm brown to match palette */\n",
    "    padding: 20px; \n",
    "    background: linear-gradient(135deg, #d73027, #fdae61, #a6d96a, #1a9850); \n",
    "    text-align: center; \n",
    "    box-shadow: 0px 4px 8px rgba(0, 0, 0, 0.5);\n",
    "\">\n",
    "    <h1 style=\"\n",
    "        color: #ffffff; \n",
    "        text-shadow: 2px 2px 4px rgba(0, 0, 0, 0.7); \n",
    "        font-weight: bold; \n",
    "        margin-bottom: 10px; \n",
    "        font-size: 28px; \n",
    "        font-family: 'Roboto', sans-serif;\n",
    "    \">\n",
    "        🙏 Thanks for Reading! 🚀\n",
    "    </h1>\n",
    "    <p style=\"color: #ffffff; font-size: 18px; text-align: center;\">\n",
    "        Happy Coding! 🙌😊\n",
    "    </p>\n",
    "</div>\n"
   ]
  }
 ],
 "metadata": {
  "kaggle": {
   "accelerator": "gpu",
   "dataSources": [
    {
     "databundleVersionId": 12184666,
     "sourceId": 91717,
     "sourceType": "competition"
    },
    {
     "datasetId": 7269189,
     "sourceId": 11592231,
     "sourceType": "datasetVersion"
    }
   ],
   "dockerImageVersionId": 31040,
   "isGpuEnabled": true,
   "isInternetEnabled": true,
   "language": "python",
   "sourceType": "notebook"
  },
  "kernelspec": {
   "display_name": "Python 3",
   "language": "python",
   "name": "python3"
  },
  "language_info": {
   "codemirror_mode": {
    "name": "ipython",
    "version": 3
   },
   "file_extension": ".py",
   "mimetype": "text/x-python",
   "name": "python",
   "nbconvert_exporter": "python",
   "pygments_lexer": "ipython3",
   "version": "3.11.11"
  },
  "papermill": {
   "default_parameters": {},
   "duration": 2915.873499,
   "end_time": "2025-07-03T06:27:03.327782",
   "environment_variables": {},
   "exception": null,
   "input_path": "__notebook__.ipynb",
   "output_path": "__notebook__.ipynb",
   "parameters": {},
   "start_time": "2025-07-03T05:38:27.454283",
   "version": "2.6.0"
  }
 },
 "nbformat": 4,
 "nbformat_minor": 5
}
